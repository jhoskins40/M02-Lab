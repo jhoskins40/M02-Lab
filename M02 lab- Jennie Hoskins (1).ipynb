{
 "cells": [
  {
   "cell_type": "code",
   "execution_count": 1,
   "id": "b22281a5",
   "metadata": {},
   "outputs": [
    {
     "name": "stdout",
     "output_type": "stream",
     "text": [
      "\n",
      "Student's last name or ZZZ to quit: ZZZ\n",
      "\n",
      "Thanks for using my program!\n"
     ]
    }
   ],
   "source": [
    "#Jennie Hoskins\n",
    "#M02 Lab\n",
    "\n",
    "#this program will ask for students names and GPA's and then test if the\n",
    "#student qualifies for either the Dean's List or the Honor Roll\n",
    "\n",
    "\n",
    "while True: \n",
    "    print()\n",
    "    Lastname = input(\"Student's last name or ZZZ to quit: \")\n",
    "    if Lastname == \"ZZZ\":\n",
    "        print()\n",
    "        print (\"Thanks for using my program!\")\n",
    "        break\n",
    "    print()\n",
    "    Firstname= input(\"Student's first name: \")\n",
    "    print()\n",
    "    GPA = (float(input(\"Enter Student's GPA: \" )))\n",
    "    print()\n",
    "    if GPA >= 3.25 and GPA < 3.5 :\n",
    "        print(\"You're on the Honor Roll,  \"   + Firstname + \" \" + Lastname + \"!\")\n",
    "\n",
    "    if GPA  >= 3.5:\n",
    "        print(\"You made the Dean's List,  \"  + Firstname + \" \" + Lastname + \"!\")\n",
    "\n",
    "    elif GPA < 3.25:\n",
    "        print(\"Better luck next semester, \" + Firstname + \" \" + Lastname + \"!\")\n",
    "\n",
    "###First Student\n",
    "#Student's last name or ZZZ to quit: Hoskins\n",
    "#Student's first name: Jennie\n",
    "#Enter Student's GPA: 4.0\n",
    "#You made the Dean's List,  Jennie Hoskins!\n",
    "\n",
    "###Second Student\n",
    "#Student's last name or ZZZ to quit: Appleman\n",
    "#Student's first name: Suzy\n",
    "#Enter Student's GPA: 3.3\n",
    "#You're on the Honor Roll,  Suzy Appleman!\n",
    "\n",
    "###Third Student\n",
    "#Student's last name or ZZZ to quit: Smith\n",
    "#Student's first name: John\n",
    "#Enter Student's GPA: 3.0\n",
    "#Better luck next semester, John Smith!\n",
    "\n",
    "###Fourth Student\n",
    "#Student's last name or ZZZ to quit: Gaga\n",
    "#Student's first name: Lady\n",
    "#Enter Student's GPA: 3.7\n",
    "#You made the Dean's List,  Lady Gaga!\n",
    "\n",
    "###Fifth Student\n",
    "#Student's last name or ZZZ to quit: Johnson\n",
    "#Student's first name: Jack\n",
    "#Enter Student's GPA: 2.5\n",
    "#Better luck next semester, Jack Johnson!\n",
    "\n",
    "###Quit\n",
    "#Student's last name or ZZZ to quit: ZZZ\n",
    "#Thanks for using my program!\n",
    "\n"
   ]
  },
  {
   "cell_type": "code",
   "execution_count": null,
   "id": "f3b4e811",
   "metadata": {},
   "outputs": [],
   "source": []
  },
  {
   "cell_type": "code",
   "execution_count": null,
   "id": "b867e02f",
   "metadata": {},
   "outputs": [],
   "source": []
  },
  {
   "cell_type": "code",
   "execution_count": null,
   "id": "c69c1a9c",
   "metadata": {},
   "outputs": [],
   "source": []
  }
 ],
 "metadata": {
  "kernelspec": {
   "display_name": "Python 3 (ipykernel)",
   "language": "python",
   "name": "python3"
  },
  "language_info": {
   "codemirror_mode": {
    "name": "ipython",
    "version": 3
   },
   "file_extension": ".py",
   "mimetype": "text/x-python",
   "name": "python",
   "nbconvert_exporter": "python",
   "pygments_lexer": "ipython3",
   "version": "3.10.9"
  }
 },
 "nbformat": 4,
 "nbformat_minor": 5
}
